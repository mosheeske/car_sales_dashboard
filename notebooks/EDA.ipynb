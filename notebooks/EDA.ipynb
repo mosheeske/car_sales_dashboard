{
 "cells": [
  {
   "cell_type": "markdown",
   "id": "4dd7a1fb",
   "metadata": {},
   "source": [
    "\n",
    "# EDA — vehicles_us.csv\n",
    "\n",
    "Este cuaderno realiza un **análisis exploratorio básico** usando `pandas` y `plotly-express`.\n",
    "Guárdalo dentro del directorio `notebooks/` de tu proyecto.\n",
    "\n",
    "> **Nota:** Si este notebook está en `notebooks/EDA.ipynb`, el dataset debe estar en `../vehicles_us.csv` (carpeta raíz del proyecto).\n"
   ]
  },
  {
   "cell_type": "code",
   "execution_count": null,
   "id": "8cab5a85",
   "metadata": {},
   "outputs": [],
   "source": [
    "\n",
    "import pandas as pd\n",
    "import plotly.express as px\n",
    "\n",
    "pd.set_option(\"display.max_colwidth\", 200)\n"
   ]
  },
  {
   "cell_type": "code",
   "execution_count": null,
   "id": "58f46b43",
   "metadata": {},
   "outputs": [],
   "source": [
    "\n",
    "# Ruta al CSV (ajústala si es necesario)\n",
    "CSV_PATH = \"../vehicles_us.csv\"  # si el notebook está en notebooks/ y el CSV en la raíz\n",
    "\n",
    "df = pd.read_csv(CSV_PATH)\n",
    "df.head()\n"
   ]
  },
  {
   "cell_type": "code",
   "execution_count": null,
   "id": "8f815258",
   "metadata": {},
   "outputs": [],
   "source": [
    "\n",
    "print(\"Shape:\", df.shape)\n",
    "print(\"\\nColumnas:\", df.columns.tolist())\n",
    "print(\"\\nValores nulos por columna:\")\n",
    "print(df.isna().sum().sort_values(ascending=False))\n"
   ]
  },
  {
   "cell_type": "code",
   "execution_count": null,
   "id": "05440af1",
   "metadata": {},
   "outputs": [],
   "source": [
    "\n",
    "# Convertir fechas si aplica\n",
    "if \"date_posted\" in df.columns:\n",
    "    df[\"date_posted\"] = pd.to_datetime(df[\"date_posted\"], errors=\"coerce\")\n",
    "df.head(3)\n"
   ]
  },
  {
   "cell_type": "markdown",
   "id": "6d1e43e4",
   "metadata": {},
   "source": [
    "## Histograma — Distribución de precios"
   ]
  },
  {
   "cell_type": "code",
   "execution_count": null,
   "id": "af2942a7",
   "metadata": {},
   "outputs": [],
   "source": [
    "\n",
    "fig = px.histogram(df, x=\"price\", nbins=60, title=\"Distribución de precios (price)\")\n",
    "fig.update_layout(bargap=0.05)\n",
    "fig.show()\n"
   ]
  },
  {
   "cell_type": "markdown",
   "id": "577dbc3e",
   "metadata": {},
   "source": [
    "## Dispersión — Precio vs Odómetro (color por condición)"
   ]
  },
  {
   "cell_type": "code",
   "execution_count": null,
   "id": "6adfa7d6",
   "metadata": {},
   "outputs": [],
   "source": [
    "\n",
    "if {\"odometer\", \"price\"}.issubset(df.columns):\n",
    "    fig = px.scatter(\n",
    "        df, x=\"odometer\", y=\"price\",\n",
    "        color=df[\"condition\"] if \"condition\" in df.columns else None,\n",
    "        opacity=0.5, trendline=None,\n",
    "        title=\"Precio vs Odómetro (color=condition)\"\n",
    "    )\n",
    "    fig.update_traces(marker=dict(size=5))\n",
    "    fig.show()\n",
    "else:\n",
    "    print(\"Columnas requeridas no encontradas: 'odometer' y/o 'price'\")\n"
   ]
  },
  {
   "cell_type": "markdown",
   "id": "d43d8b15",
   "metadata": {},
   "source": [
    "## Barras — Top 10 modelos más listados"
   ]
  },
  {
   "cell_type": "code",
   "execution_count": null,
   "id": "d859e1a7",
   "metadata": {},
   "outputs": [],
   "source": [
    "\n",
    "if \"model\" in df.columns:\n",
    "    top_models = df[\"model\"].value_counts().nlargest(10).index\n",
    "    df_top = df[df[\"model\"].isin(top_models)]\n",
    "    fig = px.histogram(df_top, x=\"model\", color=df_top[\"condition\"] if \"condition\" in df_top.columns else None,\n",
    "                       title=\"Top 10 modelos más listados (color=condition)\")\n",
    "    fig.update_layout(xaxis_title=\"model\", bargap=0.05)\n",
    "    fig.show()\n",
    "else:\n",
    "    print(\"Columna 'model' no encontrada.\")\n"
   ]
  },
  {
   "cell_type": "markdown",
   "id": "62bea05b",
   "metadata": {},
   "source": [
    "## (Opcional) Boxplot — Precio por tipo de vehículo"
   ]
  },
  {
   "cell_type": "code",
   "execution_count": null,
   "id": "8244a6de",
   "metadata": {},
   "outputs": [],
   "source": [
    "\n",
    "if {\"type\", \"price\"}.issubset(df.columns):\n",
    "    counts = df[\"type\"].value_counts()\n",
    "    keep_types = counts[counts >= 50].index\n",
    "    df_box = df[df[\"type\"].isin(keep_types)]\n",
    "    fig = px.box(df_box, x=\"type\", y=\"price\", title=\"Distribución de precio por tipo (filtrado a tipos con >=50 registros)\")\n",
    "    fig.update_layout(xaxis_title=\"type\", yaxis_title=\"price\")\n",
    "    fig.show()\n",
    "else:\n",
    "    print(\"Columnas requeridas no encontradas: 'type' y/o 'price'\")\n"
   ]
  },
  {
   "cell_type": "markdown",
   "id": "c0cde22f",
   "metadata": {},
   "source": [
    "\n",
    "---\n",
    "\n",
    "Creado automáticamente el **2025-10-23 00:29:17**.  \n",
    "Ajusta rutas/columnas según tu dataset.\n"
   ]
  }
 ],
 "metadata": {},
 "nbformat": 4,
 "nbformat_minor": 5
}
